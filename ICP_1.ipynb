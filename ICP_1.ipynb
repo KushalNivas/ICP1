{
 "cells": [
  {
   "cell_type": "code",
   "execution_count": null,
   "metadata": {
    "colab": {
     "base_uri": "https://localhost:8080/"
    },
    "id": "zENnmrlAFLjR",
    "outputId": "249d959f-0541-4723-d93d-54043aefd898"
   },
   "outputs": [
    {
     "name": "stdout",
     "output_type": "stream",
     "text": [
      "Enter a String: kane\n",
      "Enter any 2 characters to delete: a n\n",
      "ek\n"
     ]
    }
   ],
   "source": [
    "cl = list(input(\"Enter a String: \"))\n",
    "\n",
    "dlt_char = input(\"Enter any 2 characters to delete: \").split()\n",
    "\n",
    "for c in dlt_char:\n",
    "    if c in cl:\n",
    "        cl.remove(c)\n",
    "\n",
    "cl.reverse()\n",
    "\n",
    "res = ''.join(cl)\n",
    "\n",
    "print(res)"
   ]
  },
  {
   "cell_type": "code",
   "execution_count": null,
   "metadata": {
    "colab": {
     "base_uri": "https://localhost:8080/"
    },
    "id": "fCik1JcMHnyc",
    "outputId": "8dd18826-ec9f-41a7-b9c1-a8bbfe608412"
   },
   "outputs": [
    {
     "name": "stdout",
     "output_type": "stream",
     "text": [
      "Enter the sentenceiam python\n",
      "iam pythons\n"
     ]
    }
   ],
   "source": [
    "sentence = input(\"Enter the sentence\")\n",
    "\n",
    "new_sentence = sentence.replace(\"python\", \"pythons\")\n",
    "\n",
    "print(new_sentence)"
   ]
  },
  {
   "cell_type": "code",
   "execution_count": null,
   "metadata": {
    "colab": {
     "base_uri": "https://localhost:8080/"
    },
    "id": "ppAhpl02IbYC",
    "outputId": "4b989898-3c40-4f6b-cb8b-0de495ec9806"
   },
   "outputs": [
    {
     "name": "stdout",
     "output_type": "stream",
     "text": [
      "Enter the score: 75\n",
      "C\n"
     ]
    }
   ],
   "source": [
    "score = int(input(\"Enter the score: \"))\n",
    "\n",
    "if score >= 90 and score <= 100:\n",
    "    grade = 'A'\n",
    "elif score >= 80 and score < 90:\n",
    "    grade = 'B'\n",
    "elif score >= 70 and score < 80:\n",
    "    grade = 'C'\n",
    "elif score >= 60 and score < 70:\n",
    "    grade = 'D'\n",
    "elif score < 60:\n",
    "    grade = 'F'\n",
    "else:\n",
    "    print(\"Enter correct score\")\n",
    "print(grade)"
   ]
  }
 ],
 "metadata": {
  "colab": {
   "provenance": []
  },
  "kernelspec": {
   "display_name": "Python 3 (ipykernel)",
   "language": "python",
   "name": "python3"
  },
  "language_info": {
   "codemirror_mode": {
    "name": "ipython",
    "version": 3
   },
   "file_extension": ".py",
   "mimetype": "text/x-python",
   "name": "python",
   "nbconvert_exporter": "python",
   "pygments_lexer": "ipython3",
   "version": "3.11.7"
  }
 },
 "nbformat": 4,
 "nbformat_minor": 4
}
